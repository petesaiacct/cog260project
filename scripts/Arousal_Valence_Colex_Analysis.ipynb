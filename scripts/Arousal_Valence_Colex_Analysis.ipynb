{
 "cells": [
  {
   "cell_type": "markdown",
   "source": [
    "**This is the methodology and analysis for testing the null hypothesis.**\n",
    "\n",
    "Explanation of statistics to be used:\n",
    "\n",
    "The initial analysis uses a t-test statistic to determine if the data of interest is significant in that it deviates from\n",
    "the normal distribution at a level of significance.\n",
    "\n",
    "This is determined by finding the t-value>. $$t = \\frac{(\\bar{x}_1 - \\bar{x}_2) - D_0}{s_p \\sqrt{\\frac{1}{n_1}+\\frac{1}{n_2}}}$$\n",
    "\n",
    "To find the t-value first we determine the pooled standard deviation. $$ s_p = \\sqrt{\\frac{(n_1 - 1)s_1^2 + (n_2 - 1)s_2^2}{n_1 + n_2 - 2}}$$\n",
    "\n",
    "We will then reject the $$H_0: \\mu_1 - \\mu_2 = D_o $$ if the t-value is different from the critical t-value.\n",
    "\n",
    "The critical t-value is determined by the alpha, and is called the p value.\n",
    "\n",
    "**Hypothesis Statements 1 & 2:**\n",
    "\n",
    "Null Hypothesis #1: There will be no significant difference between the variance of the frequency of colexification of a sample of words\n",
    "drawn from the highest quartile of colexified words and the measured arousal levels of those words using ratings from the NRD and words from\n",
    "the CLICS data resource.\n",
    "\n",
    "Alternate Hypothesis #1: There will be a significant difference in the level of colexification of words with high arousal from the\n",
    "mean levels of colexification of words from a random permutation.\n",
    "\n",
    "$$H_0: \\mu_1 - \\mu_2 = D_o$$\n",
    "\n",
    "Null Hypothesis #2: There will be no significant difference between the variance of the frequency of colexification of a sample of words\n",
    "drawn from the highest quartile of colexified words and the measured valence of affect levels of those words using ratings from the NRD and words from\n",
    "the CLICS data resource.\n",
    "\n",
    "$$H_0: \\mu_1 - \\mu_2 = D_o$$\n",
    "\n",
    "\n",
    "**Methodology.**\n",
    "\n",
    "\n"
   ],
   "metadata": {
    "collapsed": false
   }
  },
  {
   "cell_type": "code",
   "execution_count": null,
   "outputs": [],
   "source": [],
   "metadata": {
    "collapsed": false
   }
  }
 ],
 "metadata": {
  "kernelspec": {
   "display_name": "Python 3",
   "language": "python",
   "name": "python3"
  },
  "language_info": {
   "codemirror_mode": {
    "name": "ipython",
    "version": 2
   },
   "file_extension": ".py",
   "mimetype": "text/x-python",
   "name": "python",
   "nbconvert_exporter": "python",
   "pygments_lexer": "ipython2",
   "version": "2.7.6"
  }
 },
 "nbformat": 4,
 "nbformat_minor": 0
}
