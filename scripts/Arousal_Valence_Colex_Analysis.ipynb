{
 "cells": [
  {
   "cell_type": "markdown",
   "source": [
    "**This is the analysis and methods for testing the null hypothesis for my project.**\n",
    "\n",
    "Explanation of statistics to be used:\n",
    "\n",
    "The initial analysis uses a t-test statistic to determine if the data of interest is significant in that it deviates from\n",
    "the normal distribution at a level of significance.\n",
    "\n",
    "This is determined by finding the t-value>. $$t = \\frac{(\\bar{x}_1 - \\bar{x}_2) - D_0}{s_p \\sqrt{\\frac{1}{n_1}+\\frac{1}{n_2}}}$$\n",
    "\n",
    "To find the t-value first we determine the pooled standard deviation. $$ s_p = \\sqrt{\\frac{(n_1 - 1)s_1^2 + (n_2 - 1)s_2^2}{n_1 + n_2 - 2}}$$\n",
    "\n",
    "We will then reject the $$H_0: \\mu_1 - \\mu_2 = D_o $$ if the t-value is different from the critical t-value.\n",
    "\n",
    "The critical t-value is determined by the alpha, and is called the p value.\n",
    "\n",
    "**Hypothesis Statements 1 & 2:**\n",
    "\n",
    "Null Hypothesis #1: There will be no significant difference between the variance of the frequency of colexification of a sample of words\n",
    "drawn from the highest quartile of colexified words and the mean levels of all of those words using ratings from the NRD and words from\n",
    "the CLICS data resource.\n",
    "\n",
    "Alternate Hypothesis #1: There will be a significant difference in the level of colexification of words with high arousal from the\n",
    "mean levels of colexification of words from the full sample.\n",
    "\n",
    "$$H_0: \\mu_1 - \\mu_2 = D_o$$\n",
    "$$H_A: \\mu_1 - \\mu_2 \\neq D_o$$\n",
    "\n",
    "Null Hypothesis #2: There will be no significant difference between the variance of the frequency of colexification of a sample of words\n",
    "drawn from the highest quartile of colexified words and the mean of all of those words using ratings from the NRD and words from\n",
    "the CLICS data resource.\n",
    "\n",
    "Alternative Hypothesis #2: There will be a significant difference in the level of colexification of words with high arousal from the\n",
    "mean levels of colexification of words from the full sample.\n",
    "\n",
    "\n",
    "\n",
    "$$H_0: \\mu_1 - \\mu_2 = D_o$$\n",
    "$$H_A: \\mu_1 - \\mu_2 \\neq D_o$$\n",
    "\n",
    "**Exploration and assembly of Data**\n",
    "\n",
    "Using the CLICS data as a resource I extracted the full dataframe of colexified word pairs, and recorded the frequencies of colexification.\n",
    "This method as initially presented to te class also excluded sets and languages where there were no colexified pairs.\n",
    "\n",
    "Import libraries for analysis and presentation\n"
   ],
   "metadata": {
    "collapsed": false
   }
  },
  {
   "cell_type": "code",
   "execution_count": 1,
   "outputs": [],
   "source": [
    "import numpy as np\n",
    "import pandas as pd\n",
    "# the library below is useful for estimating the progress of a for loop\n",
    "# the use of tqdm will be displayed in Demo 2\n",
    "from tqdm import tqdm\n",
    "from itertools import product\n",
    "import matplotlib.pyplot as plt\n",
    "from scipy import stats as st\n",
    "\n",
    "pd.options.mode.chained_assignment = None"
   ],
   "metadata": {
    "collapsed": false
   }
  },
  {
   "cell_type": "markdown",
   "source": [
    "Read the CLICS data from the provided .csv file into a dataframe so the information can be sorted and extracted."
   ],
   "metadata": {
    "collapsed": false
   }
  },
  {
   "cell_type": "code",
   "execution_count": 4,
   "outputs": [
    {
     "data": {
      "text/plain": "clics_form               object\nconcepticon_id            int64\nconcepticon_gloss        object\nontological_category     object\nsemantic_field           object\nvariety                  object\nglottocode               object\nmacroarea                object\nfamily                   object\nlatitude                float64\nlongitude               float64\nage_of_acquisition      float64\nconcreteness            float64\nfamiliarity             float64\nimagability             float64\ndtype: object"
     },
     "execution_count": 4,
     "metadata": {},
     "output_type": "execute_result"
    }
   ],
   "source": [
    "df = pd.read_csv(r\"/Users/petejohansson/PycharmProjects/cog260project/data/Colex_Data/df_all_raw.csv\", low_memory=False)\n",
    "df.columns = list(map(str.lower, df.columns))\n",
    "df = df.drop(columns=['dataset_id', 'form_id', 'form', 'gloss_in_source', 'iso639p3code', 'mrc_word', 'kucera_francis_frequency'])\n",
    "df.dtypes\n"
   ],
   "metadata": {
    "collapsed": false
   }
  },
  {
   "cell_type": "code",
   "execution_count": null,
   "outputs": [],
   "source": [],
   "metadata": {
    "collapsed": false
   }
  }
 ],
 "metadata": {
  "kernelspec": {
   "display_name": "Python 3",
   "language": "python",
   "name": "python3"
  },
  "language_info": {
   "codemirror_mode": {
    "name": "ipython",
    "version": 2
   },
   "file_extension": ".py",
   "mimetype": "text/x-python",
   "name": "python",
   "nbconvert_exporter": "python",
   "pygments_lexer": "ipython2",
   "version": "2.7.6"
  }
 },
 "nbformat": 4,
 "nbformat_minor": 0
}
